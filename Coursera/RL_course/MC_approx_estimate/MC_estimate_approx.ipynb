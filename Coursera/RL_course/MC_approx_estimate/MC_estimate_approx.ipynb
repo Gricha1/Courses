{
  "nbformat": 4,
  "nbformat_minor": 0,
  "metadata": {
    "colab": {
      "name": "MC_estimate_approx",
      "provenance": [],
      "collapsed_sections": []
    },
    "kernelspec": {
      "name": "python3",
      "display_name": "Python 3"
    },
    "language_info": {
      "name": "python"
    }
  },
  "cells": [
    {
      "cell_type": "code",
      "execution_count": 58,
      "metadata": {
        "id": "L19iXDZy5Hv3"
      },
      "outputs": [],
      "source": [
        "import gym\n",
        "import numpy as np"
      ]
    },
    {
      "cell_type": "code",
      "source": [
        "env = gym.make(\"Taxi-v3\")\n"
      ],
      "metadata": {
        "id": "Y_mIKixA9GTf"
      },
      "execution_count": 59,
      "outputs": []
    },
    {
      "cell_type": "code",
      "source": [
        "class agentMC:\n",
        "  def __init__(self, action_space_nums, \n",
        "                observation_space_nums, w=None,):\n",
        "    if w:\n",
        "      self.w = w\n",
        "    else:\n",
        "      self.w = np.zeros(observation_space_nums)\n",
        "    \n",
        "    self.action_space_nums = action_space_nums\n",
        "    self.actions = list(range(action_space_nums))\n",
        "\n",
        "\n",
        "  def get_state_value(self, x_S):\n",
        "\n",
        "    msg_1 = 'in function get state value: \\\n",
        "    x_S not numpy array in function '\n",
        "    msg_2 = f'in function get state value: \\\n",
        "    x_S shape({x_S.shape}) is not equal to w shape({self.w.shape}) '\n",
        "    assert type(x_S) == np.ndarray, msg_1\n",
        "    assert x_S.shape == self.w.shape, msg_2\n",
        "\n",
        "    return np.matmul(x_S.T, self.w)\n",
        "\n",
        "\n",
        "  def train_state_value(self, x_S, G, alpha=0.5):\n",
        "\n",
        "    delta_w = (G - self.get_state_value(x_S)) * x_S\n",
        "\n",
        "    self.w = self.w - alpha * delta_w\n",
        "\n",
        "\n",
        "  def get_best_action(self, state):\n",
        "\n",
        "    a = np.random.choice(self.actions)\n",
        "\n",
        "    return a\n",
        "\n"
      ],
      "metadata": {
        "id": "UdVGeikcgkFr"
      },
      "execution_count": 61,
      "outputs": []
    },
    {
      "cell_type": "code",
      "source": [
        "def play_episode(agent, env, max_steps=30):\n",
        "\n",
        "  train_data_dict = {}\n",
        "\n",
        "  state = env.reset()\n",
        "\n",
        "  for i in range(max_steps):\n",
        "\n",
        "    a = agent.get_best_action(state)\n",
        "\n",
        "    state, r, done, _ = env.step(a)\n",
        "\n",
        "    for key in train_data_dict:\n",
        "      train_data_dict[key] += r\n",
        "\n",
        "    if state not in train_data_dict:\n",
        "      train_data_dict[state] = 0\n",
        "\n",
        "    if done:\n",
        "      break\n",
        "\n",
        "\n",
        "  return [[key, train_data_dict[key]] for key in train_data_dict]"
      ],
      "metadata": {
        "id": "A7fOnHbA9wGD"
      },
      "execution_count": 62,
      "outputs": []
    },
    {
      "cell_type": "code",
      "source": [
        "epoches = 5\n",
        "env = gym.make(\"Taxi-v3\")\n",
        "agent = agentMC(env.action_space.n, 1)\n",
        "\n",
        "for epoch in range(epoches):\n",
        "\n",
        "  train_data = play_episode(agent, env)\n",
        "\n",
        "  for x_S, G in train_data:\n",
        "    agent.train_state_value(np.array([x_S]), G)\n"
      ],
      "metadata": {
        "id": "zKzd75EA_GVM"
      },
      "execution_count": 68,
      "outputs": []
    }
  ]
}
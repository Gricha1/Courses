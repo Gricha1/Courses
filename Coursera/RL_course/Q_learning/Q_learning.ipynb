{
  "nbformat": 4,
  "nbformat_minor": 0,
  "metadata": {
    "colab": {
      "name": "Q_learning",
      "provenance": [],
      "collapsed_sections": []
    },
    "kernelspec": {
      "name": "python3",
      "display_name": "Python 3"
    },
    "language_info": {
      "name": "python"
    }
  },
  "cells": [
    {
      "cell_type": "code",
      "execution_count": 41,
      "metadata": {
        "id": "BI1SG4tcIZUv"
      },
      "outputs": [],
      "source": [
        "import gym\n",
        "import matplotlib.pyplot as plt\n",
        "import numpy as np\n",
        "from gym.wrappers.monitoring import video_recorder \n",
        "from collections import defaultdict"
      ]
    },
    {
      "cell_type": "code",
      "source": [
        "env = gym.make(\"CartPole-v1\")\n",
        "\n",
        "env.reset()\n",
        "\n",
        "n_actions = env.action_space\n",
        "env.observation_space"
      ],
      "metadata": {
        "colab": {
          "base_uri": "https://localhost:8080/"
        },
        "id": "uR907be5Iuxh",
        "outputId": "1dd51c82-19db-4213-b383-d5a0a7e3c580"
      },
      "execution_count": 22,
      "outputs": [
        {
          "output_type": "execute_result",
          "data": {
            "text/plain": [
              "Box(-3.4028234663852886e+38, 3.4028234663852886e+38, (4,), float32)"
            ]
          },
          "metadata": {},
          "execution_count": 22
        }
      ]
    },
    {
      "cell_type": "code",
      "source": [
        "class Q_Agent:\n",
        "  def __init__(self, actions, eps, alpha, gamma):\n",
        "    self.possible_actions = actions\n",
        "    self.q_values = defaultdict(lambda: defaultdict(lambda: 0))\n",
        "    self.epsilon = eps\n",
        "    self.alpha = alpha\n",
        "    self.gamma = gamma\n",
        "  \n",
        "  def get_actions(self, state):\n",
        "    return self.possible_actions\n",
        "\n",
        "  def set_q(self, state, action, Q):\n",
        "    self.q_values[state][action] = Q\n",
        "\n",
        "  def get_value(self, state):\n",
        "    V = np.max([self.get_q(state, action) for action in self.get_actions(state)])\n",
        "\n",
        "    return V\n",
        "\n",
        "  def get_q(self, state, action):\n",
        "    return self.q_values[state][action]\n",
        "\n",
        "  def update_q(self, state, action, new_state, reward):\n",
        "    alpha = self.alpha\n",
        "    gamma = self.gamma\n",
        "    Q  = (1 - alpha) * self.get_q(state, action) + alpha * (reward + gamma * self.get_value(new_state))\n",
        "    self.set_q(state, action, Q)\n",
        "    \n",
        "  def get_action(self, state):\n",
        "    eps = self.epsilon\n",
        "    if np.random.random() > eps:\n",
        "      ind_a = np.argmax([self.get_q(state, action) for action in self.get_actions(state)])\n",
        "      a = self.get_actions(state)[ind_a]\n",
        "    else:\n",
        "      a = np.random.choice(self.get_actions(state))\n",
        "\n",
        "    return a\n",
        "\n",
        "\n",
        "def generate_trajectory(env, agent, t_max=1000):\n",
        "  s = env.reset()\n",
        "  cumulative_reward = 0\n",
        "\n",
        "  for t in range(t_max):\n",
        "    a = agent.get_action(s) \n",
        "    new_s, r, done, _ = env.step(a)\n",
        "    agent.update_q(s, a, new_s, r)\n",
        "    cumulative_reward += r\n",
        "\n",
        "    if done:\n",
        "      break\n",
        "\n",
        "    s = new_s\n",
        "\n",
        "  return cumulative_reward\n",
        "   \n",
        "\n"
      ],
      "metadata": {
        "id": "pElkzqrxIu0S"
      },
      "execution_count": 137,
      "outputs": []
    },
    {
      "cell_type": "code",
      "source": [
        "from gym.core import ObservationWrapper\n",
        "\n",
        "\n",
        "class Binarizer(ObservationWrapper):\n",
        "    def observation(self, state):\n",
        "        state = [round(state[0], 0), round(state[1], 1), \n",
        "                 round(state[2], 1), round(state[3], 1)]\n",
        "\n",
        "        return tuple(state)"
      ],
      "metadata": {
        "id": "e7f7I_ocbJdx"
      },
      "execution_count": 164,
      "outputs": []
    },
    {
      "cell_type": "code",
      "source": [
        "import time\n",
        "num_episodes = 10000\n",
        "env = Binarizer(gym.make(\"CartPole-v1\").env)\n",
        "agent = Q_Agent([0, 1], eps=0.25, alpha=0.2, gamma=0.99)\n",
        "fig = plt.figure()\n",
        "ax = fig.add_subplot()\n",
        "rewards = []\n",
        "av_rewards = []\n",
        "\n",
        "for _ in range(num_episodes):\n",
        "  episode_reward = generate_trajectory(env, agent)\n",
        "  rewards.append(episode_reward)\n",
        "  if _ % (num_episodes / 10) == 0: \n",
        "    print(episode_reward)\n",
        "  if _ % 100 == 0:\n",
        "    av_rewards.append(np.mean(rewards[-100:]))\n",
        "\n",
        "\n",
        "ax.plot(range(len(av_rewards)), av_rewards)"
      ],
      "metadata": {
        "colab": {
          "base_uri": "https://localhost:8080/",
          "height": 462
        },
        "id": "boVhQk4AIu2V",
        "outputId": "beff8de2-fc9b-4126-b459-987d7e3290e9"
      },
      "execution_count": 167,
      "outputs": [
        {
          "output_type": "stream",
          "name": "stdout",
          "text": [
            "12.0\n",
            "35.0\n",
            "167.0\n",
            "111.0\n",
            "302.0\n",
            "357.0\n",
            "80.0\n",
            "343.0\n",
            "159.0\n",
            "204.0\n"
          ]
        },
        {
          "output_type": "execute_result",
          "data": {
            "text/plain": [
              "[<matplotlib.lines.Line2D at 0x7feb9313e3d0>]"
            ]
          },
          "metadata": {},
          "execution_count": 167
        },
        {
          "output_type": "display_data",
          "data": {
            "image/png": "[encoded data removed]",
            "text/plain": [
              "<Figure size 432x288 with 1 Axes>"
            ]
          },
          "metadata": {
            "needs_background": "light"
          }
        }
      ]
    }
  ]
}
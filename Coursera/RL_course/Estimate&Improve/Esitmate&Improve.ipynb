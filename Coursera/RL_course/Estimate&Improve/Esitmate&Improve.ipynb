{
  "nbformat": 4,
  "nbformat_minor": 0,
  "metadata": {
    "colab": {
      "name": "Esitmate&Improve",
      "provenance": [],
      "collapsed_sections": []
    },
    "kernelspec": {
      "name": "python3",
      "display_name": "Python 3"
    },
    "language_info": {
      "name": "python"
    }
  },
  "cells": [
    {
      "cell_type": "code",
      "execution_count": 22,
      "metadata": {
        "id": "d8tapyQPYpfp"
      },
      "outputs": [],
      "source": [
        "class environment:\n",
        "  def __init__(self):\n",
        "    self.i_min = 0\n",
        "    self.i_max = 9\n",
        "    self.j_min = 0\n",
        "    self.j_max = 9\n",
        "    self.goals = [(3, 3), (8, 9)]\n",
        "    self.states = []\n",
        "    for i in range(self.i_max + 1):\n",
        "      self.states.extend([(i, j) for j in range(self.j_max + 1)])\n",
        "    #self.states = [[(i, j) for j in range(self.j_max + 1)] for i in range(self.i_max + 1)] \n",
        "\n",
        "  def get_state_reward(self, state, action):\n",
        "    #0, 1, 2, 3 - up, down, left, right\n",
        "    collision = False\n",
        "    if action == 0:\n",
        "      if state[0] - 1 >= self.i_min:\n",
        "        state = (state[0] - 1, state[1])\n",
        "      else:\n",
        "        collision = True\n",
        "    elif action == 1:\n",
        "      if state[0] + 1 <= self.i_max:\n",
        "        state = (state[0] + 1, state[1])\n",
        "      else:\n",
        "        collision = True\n",
        "    elif action == 2:\n",
        "      if state[1] - 1 >= self.j_min:\n",
        "        state = (state[0], state[1] - 1)\n",
        "      else:\n",
        "        collision = True\n",
        "    elif action == 3:\n",
        "      if state[1] + 1 <= self.j_max:\n",
        "        state = (state[0], state[1] + 1)\n",
        "      else:\n",
        "        collision = True\n",
        "      \n",
        "    if state in self.goals:\n",
        "      reward = 10\n",
        "    else:\n",
        "      reward = -1\n",
        "    if collision:\n",
        "      reward = -5\n",
        "\n",
        "    return reward, state"
      ]
    },
    {
      "cell_type": "code",
      "source": [
        "import numpy as np\n",
        "\n",
        "class EstimateImprove:\n",
        "  def __init__(self, env):\n",
        "    self.policy = None\n",
        "    self.env_states = env.states\n",
        "    self.actions = [0, 1, 2, 3] #up down left right\n",
        "    self.env = env\n",
        "    self.lamb = 0.5\n",
        "\n",
        "  def train(self):  \n",
        "    if not self.policy:\n",
        "      self.policy = {}\n",
        "      for state in self.env_states:\n",
        "        self.policy[state] = {i : 1 / 4 for i in range(4)}\n",
        "    else:\n",
        "      pass\n",
        "    V = {}\n",
        "    for state in self.env_states:\n",
        "      V[state] = 0\n",
        "    theta = 0.1\n",
        "\n",
        "    while True:\n",
        "      V_old = V\n",
        "      V = self.Estimate()\n",
        "      self.Improve(V)\n",
        "      \n",
        "      #оцениваем по отношению к предыдущей value function \n",
        "      delta = 0\n",
        "      for state in self.env_states:\n",
        "        delta = max(delta, abs(V_old[state] - V[state]))\n",
        "\n",
        "      if delta <= theta:\n",
        "        break\n",
        "\n",
        "\n",
        "  def Estimate(self):\n",
        "    V = {}\n",
        "    for state in self.env_states:\n",
        "      V[state] = 0\n",
        "    theta = 0.1\n",
        "\n",
        "    while True:\n",
        "      delta = 0\n",
        "\n",
        "      for state in self.env_states:\n",
        "        V_old = V[state]\n",
        "        for action in self.actions:\n",
        "          r, state_prime = self.env.get_state_reward(state, action)\n",
        "          temp_sum = self.policy[state][action] * 1 * (r + self.lamb * V[state_prime]) \n",
        "        V[state] = temp_sum\n",
        "        delta = max(delta, abs(V_old - V[state]))\n",
        "\n",
        "      if delta <= theta:\n",
        "        break\n",
        "\n",
        "    return V\n",
        "\n",
        "\n",
        "  def Improve(self, V):\n",
        "    values = []\n",
        "    for state in self.env_states:\n",
        "      values = []\n",
        "      for action in self.actions:\n",
        "        r, state_prime = self.env.get_state_reward(state, action)\n",
        "        values.append(1 * (r + self.lamb * V[state_prime]))\n",
        "\n",
        "      act_to_max = np.argmax(np.array(values))\n",
        "      self.policy[state] = [0] * len(self.policy[state])\n",
        "      self.policy[state][act_to_max] = 1"
      ],
      "metadata": {
        "id": "SPAMnyB-YqOM"
      },
      "execution_count": 26,
      "outputs": []
    },
    {
      "cell_type": "code",
      "source": [
        "env = environment()\n",
        "agent = EstimateImprove(env)\n",
        "\n",
        "agent.train()"
      ],
      "metadata": {
        "id": "cvJodQ0LYqQm"
      },
      "execution_count": 27,
      "outputs": []
    },
    {
      "cell_type": "code",
      "source": [
        "for i in range(10):\n",
        "  for j in range(10):\n",
        "    if (i, j) in env.goals:\n",
        "      print(\"\\u274E\", end=\"   \")\n",
        "    else:\n",
        "      if np.argmax(np.array(agent.policy[(i, j)])) == 0:\n",
        "        print(\"\\u2191\", end=\"   \")\n",
        "      if np.argmax(np.array(agent.policy[(i, j)])) == 1:\n",
        "        print(\"\\u2193\", end=\"   \")\n",
        "      if np.argmax(np.array(agent.policy[(i, j)])) == 2:\n",
        "        print(\"\\u2190\", end=\"   \")\n",
        "      if np.argmax(np.array(agent.policy[(i, j)])) == 3:\n",
        "        print(\"\\u2192\", end=\"   \")\n",
        "  print()"
      ],
      "metadata": {
        "id": "MOq_vWY3YqS-",
        "colab": {
          "base_uri": "https://localhost:8080/"
        },
        "outputId": "2c126688-1f0c-4d1c-ff5c-8ca651f713c1"
      },
      "execution_count": 42,
      "outputs": [
        {
          "output_type": "stream",
          "name": "stdout",
          "text": [
            "↓   ↓   ↓   ↓   ↓   ↓   ↓   ↓   ↓   ↓   \n",
            "↑   ↑   ↑   ↑   ↑   ↑   ↑   ↑   ↑   ↑   \n",
            "↓   ↓   ↓   ↓   ↑   ↑   ↑   ↑   ↑   ↑   \n",
            "→   →   →   ❎   ←   ↑   ↑   ↑   ↑   ↑   \n",
            "↑   ↑   ↑   ↑   ↑   ↑   ↑   ↑   ↑   ↑   \n",
            "↑   ↑   ↑   ↑   ↑   ↑   ↑   ↑   ↑   ↑   \n",
            "↑   ↑   ↑   ↑   ↑   ↑   ↑   ↑   ↑   ↑   \n",
            "↑   ↑   ↑   ↑   ↑   ↑   ↓   ↓   ↓   ↓   \n",
            "↑   ↑   ↑   ↑   ↑   →   →   →   →   ❎   \n",
            "↑   ↑   ↑   ↑   ↑   ←   ↑   ↑   ↑   ↑   \n"
          ]
        }
      ]
    }
  ]
}
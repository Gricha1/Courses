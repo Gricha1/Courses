{
  "nbformat": 4,
  "nbformat_minor": 0,
  "metadata": {
    "colab": {
      "name": "Kmeans.ipynb",
      "provenance": []
    },
    "kernelspec": {
      "name": "python3",
      "display_name": "Python 3"
    },
    "language_info": {
      "name": "python"
    }
  },
  "cells": [
    {
      "cell_type": "code",
      "execution_count": 12,
      "metadata": {
        "id": "HrHIccI9YQ-w"
      },
      "outputs": [],
      "source": [
        "def euclid(x1, x2):\n",
        "  assert len(x1) == len(x2), 'len x1 != len x2'\n",
        "  return sum([(x1_i - x2_i) ** 2 for x1_i, x2_i in zip(x1, x2)]) ** 0.5"
      ]
    },
    {
      "cell_type": "code",
      "source": [
        "import numpy as np\n",
        "\n",
        "#KMeans реализация\n",
        "class KMeans:\n",
        "  def __init__(self, K):\n",
        "    self.K = K\n",
        "\n",
        "  def fit(self, X):\n",
        "    #случайная инициализация K кластеров\n",
        "    clusters = np.random.randn(self.K, 2)\n",
        "    for d in range(len(X[0, :])):\n",
        "      clusters[:, d] = clusters[:, d] * (X[:, d].max() - X[:, d].min()) + X[:, d].min()\n",
        "\n",
        "    iter = 10\n",
        "    while iter > 0:\n",
        "      iter -= 1\n",
        "      #для каждого из обьектов указываем индекс ближайшего кластера\n",
        "      cluster_objects = {}\n",
        "      for i in range(len(X)):\n",
        "        x = X[i, :]\n",
        "        min_dist = None\n",
        "        for j in range(self.K):\n",
        "          if not min_dist or euclid(x, clusters[j]) > min_dist:\n",
        "            min_dist = euclid(x, clusters[j])\n",
        "            j_ = j\n",
        "\n",
        "        if j_ not in cluster_objects:\n",
        "          cluster_objects[j_] = [x]\n",
        "        else:\n",
        "          cluster_objects[j_].append(x)  \n",
        "\n",
        "      #обновляем координаты каждого из кластеров\n",
        "      for j in range(self.K):\n",
        "        for d in range(len(X[0, :])):\n",
        "          if j in cluster_objects:\n",
        "            clusters[j][d] = sum([el[d] for el in cluster_objects[j]]) / len(cluster_objects[j])\n",
        "\n",
        "    self.clusters = clusters\n",
        "\n",
        "\n",
        "  def predict(self, x):\n",
        "    min_dist = None\n",
        "    for j in range(self.K):\n",
        "      if not min_dist or euclid(x, self.clusters[j]) > min_dist:\n",
        "        min_dist = euclid(x, self.clusters[j])\n",
        "        j_ = j\n",
        "    \n",
        "    return j_"
      ],
      "metadata": {
        "id": "x9u4nviiYVGw"
      },
      "execution_count": 32,
      "outputs": []
    },
    {
      "cell_type": "code",
      "source": [
        "import matplotlib.pyplot as plt\n",
        "from sklearn.datasets import make_blobs\n",
        "\n",
        "data = make_blobs(1000, random_state=1)\n",
        "X = data[0]\n",
        "\n",
        "model = KMeans(3)\n",
        "\n",
        "model.fit(X)"
      ],
      "metadata": {
        "id": "vL42pS_DTgYy"
      },
      "execution_count": 44,
      "outputs": []
    },
    {
      "cell_type": "code",
      "source": [
        "plt.scatter(data[0][:, 0], data[0][:, 1])\n",
        "None"
      ],
      "metadata": {
        "colab": {
          "base_uri": "https://localhost:8080/",
          "height": 265
        },
        "id": "Z9_qzWkDYVJT",
        "outputId": "234da8eb-0cf7-4681-a6d5-d0b88d746a53"
      },
      "execution_count": 85,
      "outputs": [
        {
          "output_type": "display_data",
          "data": {
            "image/png": "[encoded data removed]",
            "text/plain": [
              "<Figure size 432x288 with 1 Axes>"
            ]
          },
          "metadata": {
            "needs_background": "light"
          }
        }
      ]
    },
    {
      "cell_type": "code",
      "source": [
        "y = np.array([model.predict(x) for x in X])\n",
        "for j in range(len(model.clusters)):\n",
        "  indexes = np.arange(len(y))[y == j]\n",
        "  if len(indexes) > 0:\n",
        "    plt.scatter(X[indexes, :][:, 0], X[indexes, :][:, 1])\n",
        "None"
      ],
      "metadata": {
        "colab": {
          "base_uri": "https://localhost:8080/",
          "height": 265
        },
        "id": "P7FIY8ohTnqQ",
        "outputId": "4800511f-ad00-4963-95fd-2c503222085b"
      },
      "execution_count": 86,
      "outputs": [
        {
          "output_type": "display_data",
          "data": {
            "image/png": "[encoded data removed]",
            "text/plain": [
              "<Figure size 432x288 with 1 Axes>"
            ]
          },
          "metadata": {
            "needs_background": "light"
          }
        }
      ]
    },
    {
      "cell_type": "code",
      "source": [
        ""
      ],
      "metadata": {
        "id": "lFWxe07SYVL-"
      },
      "execution_count": null,
      "outputs": []
    }
  ]
}
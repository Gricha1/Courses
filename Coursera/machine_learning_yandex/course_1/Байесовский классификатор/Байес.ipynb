{
  "nbformat": 4,
  "nbformat_minor": 0,
  "metadata": {
    "colab": {
      "name": "Untitled147.ipynb",
      "provenance": [],
      "collapsed_sections": []
    },
    "kernelspec": {
      "name": "python3",
      "display_name": "Python 3"
    },
    "language_info": {
      "name": "python"
    }
  },
  "cells": [
    {
      "cell_type": "code",
      "execution_count": null,
      "metadata": {
        "id": "8hzwjwRaY1Ta"
      },
      "outputs": [],
      "source": [
        "import numpy as np\n",
        "from sklearn.datasets import load_digits, load_breast_cancer\n",
        "\n",
        "data = load_digits()\n",
        "\n",
        "\n",
        "X, y = data.data, data.target"
      ]
    },
    {
      "cell_type": "code",
      "source": [
        "from functools import reduce\n",
        "\n",
        "class Bayes:\n",
        "  def __init__(self):\n",
        "    pass\n",
        "\n",
        "  def fit(self, X, y):\n",
        "    #get prior probs\n",
        "    classes_ = np.unique(y)\n",
        "    Prior = {} # P(y) for every y\n",
        "    for class_ in classes_: Prior.update({class_: sum(y == class_) / len(y)})\n",
        "\n",
        "    #get cond probs\n",
        "    dist_x_y = {}\n",
        "    for class_ in classes_:\n",
        "      dist_x_y[class_] = {}\n",
        "      elemens_class_ = X[np.arange(len(y))[y == class_], :]\n",
        "      for j in range(X.shape[1]):\n",
        "        dist_x_y[class_][j] = {elemens_class_[:, j][i]: sum(elemens_class_[:, j] == elemens_class_[:, j][i]) / len(elemens_class_) for i in range(len(elemens_class_))}\n",
        "      print(\"done:\", (class_ + 1) / len(classes_))\n",
        "    self.Prior = Prior\n",
        "    self.dist_x_y = dist_x_y\n",
        "    self.classes_ = classes_\n",
        "      \n",
        "  def predict(self, x):\n",
        "    probs = []\n",
        "    for class_ in self.classes_:   \n",
        "      try:\n",
        "        P_x_y = reduce(lambda x, y: x * y, [self.dist_x_y[class_][j][x[j]] for j in range(len(x))])\n",
        "      except:\n",
        "        P_x_y = 0\n",
        "      probs.append(P_x_y * self.Prior[class_]) \n",
        "\n",
        "    a = np.argmin(probs)\n",
        "\n",
        "    return a\n",
        "  "
      ],
      "metadata": {
        "id": "XjjGNpmAaM4k"
      },
      "execution_count": null,
      "outputs": []
    },
    {
      "cell_type": "code",
      "source": [
        "model = Bayes()\n",
        "\n",
        "model.fit(X, y)"
      ],
      "metadata": {
        "colab": {
          "base_uri": "https://localhost:8080/"
        },
        "id": "KrMktXzOY5ei",
        "outputId": "66969a05-4999-4f55-b438-167392a18111"
      },
      "execution_count": null,
      "outputs": [
        {
          "output_type": "stream",
          "name": "stdout",
          "text": [
            "done: 0.1\n",
            "done: 0.2\n",
            "done: 0.3\n",
            "done: 0.4\n",
            "done: 0.5\n",
            "done: 0.6\n",
            "done: 0.7\n",
            "done: 0.8\n",
            "done: 0.9\n",
            "done: 1.0\n"
          ]
        }
      ]
    },
    {
      "cell_type": "code",
      "source": [
        "from sklearn.naive_bayes import BernoulliNB, MultinomialNB, GaussianNB\n",
        "from sklearn.metrics import accuracy_score\n",
        "from sklearn.model_selection import cross_val_score\n",
        "\n",
        "model_1 = BernoulliNB()\n",
        "model_2 = MultinomialNB()\n",
        "model_3 = GaussianNB()\n",
        "\n",
        "model_1.fit(X, y)\n",
        "model_2.fit(X, y)\n",
        "model_3.fit(X, y)\n",
        "\n",
        "for ind, data in enumerate([load_digits(), load_breast_cancer()]):\n",
        "  X, y = data.data, data.target\n",
        "  results = []\n",
        "  for model in [model_1, model_2, model_3]:\n",
        "    results.append(cross_val_score(model, X, y).mean())\n",
        "  print(f\"{ind + 1} dataset :\", results)"
      ],
      "metadata": {
        "colab": {
          "base_uri": "https://localhost:8080/"
        },
        "id": "kNKe4d4Zusbl",
        "outputId": "6c26c0a8-fee7-4caa-e8f7-f7193830af21"
      },
      "execution_count": null,
      "outputs": [
        {
          "output_type": "stream",
          "name": "stdout",
          "text": [
            "1 dataset : [0.8241736304549674, 0.8703497369235531, 0.8069281956050759]\n",
            "2 dataset : [0.6274181027790716, 0.8963204471355379, 0.9385188635305075]\n"
          ]
        }
      ]
    },
    {
      "cell_type": "code",
      "source": [
        "data = load_breast_cancer()\n",
        "data.data"
      ],
      "metadata": {
        "colab": {
          "base_uri": "https://localhost:8080/"
        },
        "id": "A19OdZmv3-A9",
        "outputId": "2c877119-2abd-4ebb-c757-ce770684418b"
      },
      "execution_count": null,
      "outputs": [
        {
          "output_type": "execute_result",
          "data": {
            "text/plain": [
              "array([[1.799e+01, 1.038e+01, 1.228e+02, ..., 2.654e-01, 4.601e-01,\n",
              "        1.189e-01],\n",
              "       [2.057e+01, 1.777e+01, 1.329e+02, ..., 1.860e-01, 2.750e-01,\n",
              "        8.902e-02],\n",
              "       [1.969e+01, 2.125e+01, 1.300e+02, ..., 2.430e-01, 3.613e-01,\n",
              "        8.758e-02],\n",
              "       ...,\n",
              "       [1.660e+01, 2.808e+01, 1.083e+02, ..., 1.418e-01, 2.218e-01,\n",
              "        7.820e-02],\n",
              "       [2.060e+01, 2.933e+01, 1.401e+02, ..., 2.650e-01, 4.087e-01,\n",
              "        1.240e-01],\n",
              "       [7.760e+00, 2.454e+01, 4.792e+01, ..., 0.000e+00, 2.871e-01,\n",
              "        7.039e-02]])"
            ]
          },
          "metadata": {},
          "execution_count": 75
        }
      ]
    }
  ]
}
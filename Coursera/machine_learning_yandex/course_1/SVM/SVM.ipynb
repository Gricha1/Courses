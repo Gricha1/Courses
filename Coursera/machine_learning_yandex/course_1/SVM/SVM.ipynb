{
  "nbformat": 4,
  "nbformat_minor": 0,
  "metadata": {
    "colab": {
      "name": "SVM",
      "provenance": [],
      "collapsed_sections": []
    },
    "kernelspec": {
      "name": "python3",
      "display_name": "Python 3"
    },
    "language_info": {
      "name": "python"
    }
  },
  "cells": [
    {
      "cell_type": "code",
      "execution_count": 49,
      "metadata": {
        "id": "hxFmAlx922Fx"
      },
      "outputs": [],
      "source": [
        "from sklearn.datasets import load_digits\n",
        "import numpy as np\n",
        "\n",
        "X = load_digits().data\n",
        "y = load_digits().target\n",
        "y[y >= 1] = 1"
      ]
    },
    {
      "cell_type": "code",
      "source": [
        "from sklearn.model_selection import train_test_split\n",
        "\n",
        "X_train, X_test, y_train, y_test = train_test_split(X, y, test_size=0.25, shuffle=False)"
      ],
      "metadata": {
        "id": "iXxiETOL26fI"
      },
      "execution_count": 51,
      "outputs": []
    },
    {
      "cell_type": "code",
      "source": [
        "\n",
        "class SVM:\n",
        "  def __init__(self):\n",
        "    pass\n",
        "\n",
        "  def fit(self, X, y):\n",
        "    #инициализация весов и параметров\n",
        "    self.w = np.random.random((X.shape[1], 1))\n",
        "    alpha = 0.01\n",
        "    Eps = 0.1\n",
        "    C = 0.1\n",
        "    w_old = np.array([0] * X.shape[1])\n",
        "\n",
        "\n",
        "    while sum([(w_old[j] - self.w[j]) ** 2 for j in range(X.shape[1])]) ** 0.5 > Eps:\n",
        "      M = [1 - y[i] * self.predict(X[i, :]) for i in range(X.shape[0])]\n",
        "      w_old = self.w\n",
        "\n",
        "      #обновляем веса\n",
        "      for j in range(X.shape[1]):\n",
        "        dQ_j = sum([-X[i, :][j] * y[i] if 1 - M[i] > 0 else 0 for i in range(X.shape[0])]) + 2 * C * self.w[j]\n",
        "        self.w[j] = self.w[j] - alpha * dQ_j\n",
        "\n",
        "\n",
        "  def predict(self, x):\n",
        "    a = x @ self.w \n",
        "    return 1 if a.item() >= 0 else 0"
      ],
      "metadata": {
        "id": "B0Yqn5hM264h"
      },
      "execution_count": 54,
      "outputs": []
    },
    {
      "cell_type": "code",
      "source": [
        "model = SVM()\n",
        "\n",
        "model.fit(X, y)"
      ],
      "metadata": {
        "id": "ErRnWIHd-dyz"
      },
      "execution_count": 55,
      "outputs": []
    },
    {
      "cell_type": "code",
      "source": [
        "from sklearn.metrics import accuracy_score\n",
        "\n",
        "print('test acc:', accuracy_score(y_test, [model.predict(x) for x in X_test]))"
      ],
      "metadata": {
        "colab": {
          "base_uri": "https://localhost:8080/"
        },
        "id": "-WwQmxP1-d33",
        "outputId": "2b2caeb9-03b3-4dfd-ffc9-96d4bbe8ab19"
      },
      "execution_count": 56,
      "outputs": [
        {
          "output_type": "stream",
          "name": "stdout",
          "text": [
            "test acc: 0.9044444444444445\n"
          ]
        }
      ]
    }
  ]
}
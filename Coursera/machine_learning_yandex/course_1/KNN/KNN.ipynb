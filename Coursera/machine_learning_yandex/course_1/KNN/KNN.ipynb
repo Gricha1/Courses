{
  "nbformat": 4,
  "nbformat_minor": 0,
  "metadata": {
    "colab": {
      "name": "KNN",
      "provenance": [],
      "collapsed_sections": []
    },
    "kernelspec": {
      "name": "python3",
      "display_name": "Python 3"
    },
    "language_info": {
      "name": "python"
    }
  },
  "cells": [
    {
      "cell_type": "code",
      "execution_count": 6,
      "metadata": {
        "id": "XQLUjL_eXpjj"
      },
      "outputs": [],
      "source": [
        "import numpy as np\n",
        "from sklearn.datasets import load_digits\n",
        "\n",
        "data = load_digits()\n",
        "X = data.data\n",
        "y = data.target"
      ]
    },
    {
      "cell_type": "code",
      "source": [
        "def Euclid(x1, x2):\n",
        "  assert len(x1) == len(x2), \"len(x1) doesnt equal len(x2)\"\n",
        "  y = sum([(x1[i] - x2[i]) ** 2 for i in range(len(x1))])\n",
        "  return y ** 0.5\n"
      ],
      "metadata": {
        "id": "HHs-ixXeZ0ij"
      },
      "execution_count": 10,
      "outputs": []
    },
    {
      "cell_type": "code",
      "source": [
        "#Не взвешенные K ближайших соседей Classification\n",
        "class KNN:\n",
        "  def __init__(self, K=5, weighted=False):\n",
        "    self.K = K\n",
        "    self.weighted = weighted\n",
        "\n",
        "  def fit(self, X, y):\n",
        "    self.X = X\n",
        "    self.y = y\n",
        "\n",
        "  def predict(self, x):\n",
        "    self.labels = np.unique(y)\n",
        "    dists = []\n",
        "    for i in range(self.X.shape[0]):\n",
        "      xi = X[i, :]\n",
        "      dists.append((i, Euclid(x, xi)))\n",
        "    neights = sorted(dists, key=lambda x: x[1])[:self.K]\n",
        "    neights_labels = np.array([self.y[pair[0]] for pair in neights])\n",
        "\n",
        "    if not self.weighted:\n",
        "      freqs = np.array([sum(neights_labels == label) for label in self.labels])\n",
        "      a = self.labels[np.argmax(freqs)]\n",
        "    else:\n",
        "      pass\n",
        "    return a"
      ],
      "metadata": {
        "id": "w-Eb0lKzX0ap"
      },
      "execution_count": 47,
      "outputs": []
    },
    {
      "cell_type": "code",
      "source": [
        "model = KNN()\n",
        "\n",
        "model.fit(X, y)"
      ],
      "metadata": {
        "id": "Ok2vyt75X0gm"
      },
      "execution_count": 48,
      "outputs": []
    },
    {
      "cell_type": "code",
      "source": [
        "from sklearn.metrics import accuracy_score\n",
        "\n",
        "y_pred = [model.predict(X[i, :]) for i in range(X.shape[0])]\n",
        "\n",
        "print(\"train acc:\", accuracy_score(y, y_pred))"
      ],
      "metadata": {
        "colab": {
          "base_uri": "https://localhost:8080/"
        },
        "id": "OKDqJhoMX0lx",
        "outputId": "b5515c4e-192d-4c99-d332-f2ca9a8e87c5"
      },
      "execution_count": 64,
      "outputs": [
        {
          "output_type": "stream",
          "name": "stdout",
          "text": [
            "train acc: 0.9905397885364496\n"
          ]
        }
      ]
    }
  ]
}
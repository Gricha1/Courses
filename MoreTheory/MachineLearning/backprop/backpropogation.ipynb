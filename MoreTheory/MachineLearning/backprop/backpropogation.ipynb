{
  "nbformat": 4,
  "nbformat_minor": 0,
  "metadata": {
    "colab": {
      "name": "backpropogation",
      "provenance": [],
      "collapsed_sections": []
    },
    "kernelspec": {
      "name": "python3",
      "display_name": "Python 3"
    },
    "language_info": {
      "name": "python"
    }
  },
  "cells": [
    {
      "cell_type": "code",
      "execution_count": null,
      "metadata": {
        "id": "fYHKev9EMiyC"
      },
      "outputs": [],
      "source": [
        "import numpy as np\n",
        "\n",
        "class hidden_node:\n",
        "  def __init__(self, weights=None, parents=None):\n",
        "\n",
        "    self.weights = []\n",
        "    try:\n",
        "      assert type(weights) == np.ndarray, 'input is not correct'\n",
        "      self.weights.extend(weights)\n",
        "    except:\n",
        "      pass\n",
        "\n",
        "    self.parents = []\n",
        "    try:\n",
        "      self.parents.extend(parents)\n",
        "      self.parents_grads = np.array([0 for i in range(len(parents))])\n",
        "      self.is_parents = True\n",
        "    except:\n",
        "      self.is_parents = False\n",
        "\n",
        "    self.grads = np.zeros_like(weights)\n",
        "    \n",
        "\n",
        "\n",
        "  def forward(self, input):\n",
        "    '''\n",
        "      input = numpy.ndarray, size = (d, )\n",
        "      weights = numpy.ndarray, size = ( , d)\n",
        "      parent = [w0, w1, w2, ..., x0, x1, x2, ...]\n",
        "      return weights x input \n",
        "    '''\n",
        "    assert type(input) == np.ndarray, 'input is not correct'\n",
        "\n",
        "    self.input = input\n",
        "\n",
        "    return np.matmul(self.weights, input)\n",
        "\n",
        "  def backward(self, dz):\n",
        "    '''\n",
        "      dz = dL / dz\n",
        "      d = ([dL / dw0, dL / dw1, dL / dw2, ...], \n",
        "      [dL / x0, dL / x1, dL / x2 ...])\n",
        "\n",
        "    '''\n",
        "    d_w = np.array([dz * x for x in self.input])\n",
        "    self.grads += d_w\n",
        "    \n",
        "    if self.is_parents:\n",
        "      d_x = np.array([dz * w for w in self.weights])\n",
        "      #print(d_x + self.parents_grads) #DEBUG\n",
        "      #print(self.parents_grads) #DEBUG\n",
        "      self.parents_grads = self.parents_grads + d_x\n",
        "\n",
        "  def update_weights(self, grad, alpha=0.5):\n",
        "    assert type(grad) == np.ndarray, 'input is not correct'\n",
        "    assert_string = f'the length is different {len(weights)} and {len(self.weights)}'\n",
        "    assert len(grad) == len(self.weights), assert_string\n",
        "    self.weights = self.weights - alpha * grad\n",
        "\n",
        "\n",
        "\n",
        "class MSE_node:\n",
        "\n",
        "  def __init__(self):\n",
        "    pass\n",
        "\n",
        "  def loss(self, y_pred, y):\n",
        "    y_pred = y_pred[0]\n",
        "    \n",
        "    self.loss_grad = 2 * (y_pred - y)\n",
        "\n",
        "    return (y_pred - y) ** 2\n",
        "\n",
        "  def backward(self):\n",
        "    dz = self.loss_grad\n",
        "\n",
        "    return dz\n",
        "\n",
        "  "
      ]
    },
    {
      "cell_type": "code",
      "source": [
        "class calculate_grads:\n",
        "  def __init__(self, layers, loss):\n",
        "    self.layers = layers\n",
        "    self.loss = loss\n",
        "    self.num_params = 0\n",
        "  \n",
        "  def set_zero_gradient(self):\n",
        "    self.gradient = []\n",
        "\n",
        "  def forward(self, input):\n",
        "    prev_nums = len(input) \n",
        "    for layer in self.layers:\n",
        "      input = np.array([node.forward(input) for node in layer])\n",
        "      self.num_params += prev_nums * len(layer)\n",
        "      prev_nums = len(layer)\n",
        "      \n",
        "    return input\n",
        "      \n",
        "\n",
        "  def backward(self):\n",
        "    j = len(self.layers)\n",
        "\n",
        "    #self.loss.loss(y_pred, y)\n",
        "    dz = self.loss.backward()\n",
        "\n",
        "    for layer in self.layers[::-1]:\n",
        "      #check if first layer\n",
        "      if j == 1:\n",
        "        for current_node in layer:\n",
        "          self.gradient.extend(current_node.grads)\n",
        "        break\n",
        "      \n",
        "      for current_node in layer:\n",
        "        #set dz for last layer = 1\n",
        "        if j == len(self.layers):\n",
        "          current_node.backward(dz)\n",
        "        #  current_node.parents_grads = np.ones_like(current_node.parents_grads)\n",
        "        \n",
        "        self.gradient.extend(current_node.grads)\n",
        "\n",
        "        for node, dz in zip(current_node.parents, current_node.parents_grads):\n",
        "          node.backward(dz)\n",
        "\n",
        "      j -= 1\n",
        "   \n",
        "    assert_string = f\"len of gradient {len(self.gradient)} doesnt equal to num of params {self.num_params}\" \n",
        "    assert len(self.gradient) == self.num_params, assert_string"
      ],
      "metadata": {
        "id": "kKYR8ZFCWHyX"
      },
      "execution_count": null,
      "outputs": []
    },
    {
      "cell_type": "code",
      "source": [
        "class network(calculate_grads):\n",
        "\n",
        "  def train(self, x, y, alpha = 0.5):\n",
        "\n",
        "    #get grads\n",
        "    self.set_zero_gradient()\n",
        "\n",
        "    y_pred = self.forward(x)\n",
        "\n",
        "    loss_ = self.loss.loss(y_pred, y)\n",
        "\n",
        "    self.backward()\n",
        "\n",
        "    #update weights\n",
        "    i = 0\n",
        "    for layer in self.layers[::-1]:\n",
        "      for current_node in layer:\n",
        "        count_of_weights = len(current_node.weights)\n",
        "        current_node.update_weights(np.array(self.gradient[i:i + count_of_weights]), alpha=alpha)\n",
        "\n",
        "        i += count_of_weights\n",
        "\n",
        "    return loss_"
      ],
      "metadata": {
        "id": "l1RJmjy1zTLf"
      },
      "execution_count": null,
      "outputs": []
    },
    {
      "cell_type": "code",
      "source": [
        "#testing\n",
        "input_size = 1\n",
        "d1 = 6\n",
        "d2 = 3\n",
        "d3 = 1\n",
        "layers = []\n",
        "\n",
        "x = np.random.randn(input_size)\n",
        "y = 1\n",
        "\n",
        "nodes = []\n",
        "for i in range(d1):\n",
        "  weights = np.random.randn(input_size)\n",
        "  nodes.append(hidden_node(weights))\n",
        "layers.append(nodes)\n",
        "\n",
        "nodes = []\n",
        "for i in range(d2):\n",
        "  weights = np.random.randn(d1)\n",
        "  nodes.append(hidden_node(weights, [layers[0][j] for j in range(len(layers[0]))]))\n",
        "layers.append(nodes)\n",
        "\n",
        "nodes = []\n",
        "for i in range(d3):\n",
        "  weights = np.random.randn(d2)\n",
        "  nodes.append(hidden_node(weights, [layers[0][j] for j in range(len(layers[1]))]))\n",
        "layers.append(nodes)\n",
        "\n",
        "#calc_grad = calculate_grads(layers)\n",
        "loss = MSE_node()\n",
        "\n",
        "net = network(layers, loss)\n",
        "\n",
        "#net.train(x)"
      ],
      "metadata": {
        "id": "yk9qtexhMjtf"
      },
      "execution_count": null,
      "outputs": []
    },
    {
      "cell_type": "code",
      "source": [
        "#net.forward(x)\n",
        "#net.backward()\n",
        "net.train(x, y)"
      ],
      "metadata": {
        "colab": {
          "base_uri": "https://localhost:8080/",
          "height": 319
        },
        "id": "LRMNWfxy3BIx",
        "outputId": "3a10b0bb-54e4-409e-83c7-e0b346c53224"
      },
      "execution_count": null,
      "outputs": [
        {
          "output_type": "error",
          "ename": "AssertionError",
          "evalue": "ignored",
          "traceback": [
            "\u001b[0;31m---------------------------------------------------------------------------\u001b[0m",
            "\u001b[0;31mAssertionError\u001b[0m                            Traceback (most recent call last)",
            "\u001b[0;32m<ipython-input-257-9a9802557416>\u001b[0m in \u001b[0;36m<module>\u001b[0;34m()\u001b[0m\n\u001b[1;32m      1\u001b[0m \u001b[0;31m#net.forward(x)\u001b[0m\u001b[0;34m\u001b[0m\u001b[0;34m\u001b[0m\u001b[0;34m\u001b[0m\u001b[0m\n\u001b[1;32m      2\u001b[0m \u001b[0;31m#net.backward()\u001b[0m\u001b[0;34m\u001b[0m\u001b[0;34m\u001b[0m\u001b[0;34m\u001b[0m\u001b[0m\n\u001b[0;32m----> 3\u001b[0;31m \u001b[0mnet\u001b[0m\u001b[0;34m.\u001b[0m\u001b[0mtrain\u001b[0m\u001b[0;34m(\u001b[0m\u001b[0mx\u001b[0m\u001b[0;34m,\u001b[0m \u001b[0my\u001b[0m\u001b[0;34m)\u001b[0m\u001b[0;34m\u001b[0m\u001b[0;34m\u001b[0m\u001b[0m\n\u001b[0m",
            "\u001b[0;32m<ipython-input-254-7ef8080cdb60>\u001b[0m in \u001b[0;36mtrain\u001b[0;34m(self, x, y, alpha)\u001b[0m\n\u001b[1;32m     10\u001b[0m     \u001b[0mloss_\u001b[0m \u001b[0;34m=\u001b[0m \u001b[0mself\u001b[0m\u001b[0;34m.\u001b[0m\u001b[0mloss\u001b[0m\u001b[0;34m.\u001b[0m\u001b[0mloss\u001b[0m\u001b[0;34m(\u001b[0m\u001b[0my_pred\u001b[0m\u001b[0;34m,\u001b[0m \u001b[0my\u001b[0m\u001b[0;34m)\u001b[0m\u001b[0;34m\u001b[0m\u001b[0;34m\u001b[0m\u001b[0m\n\u001b[1;32m     11\u001b[0m \u001b[0;34m\u001b[0m\u001b[0m\n\u001b[0;32m---> 12\u001b[0;31m     \u001b[0mself\u001b[0m\u001b[0;34m.\u001b[0m\u001b[0mbackward\u001b[0m\u001b[0;34m(\u001b[0m\u001b[0;34m)\u001b[0m\u001b[0;34m\u001b[0m\u001b[0;34m\u001b[0m\u001b[0m\n\u001b[0m\u001b[1;32m     13\u001b[0m \u001b[0;34m\u001b[0m\u001b[0m\n\u001b[1;32m     14\u001b[0m     \u001b[0;31m#update weights\u001b[0m\u001b[0;34m\u001b[0m\u001b[0;34m\u001b[0m\u001b[0;34m\u001b[0m\u001b[0m\n",
            "\u001b[0;32m<ipython-input-253-0a6f8909a3d2>\u001b[0m in \u001b[0;36mbackward\u001b[0;34m(self)\u001b[0m\n\u001b[1;32m     45\u001b[0m \u001b[0;34m\u001b[0m\u001b[0m\n\u001b[1;32m     46\u001b[0m     \u001b[0massert_string\u001b[0m \u001b[0;34m=\u001b[0m \u001b[0;34mf\"len of gradient {len(self.gradient)} doesnt equal to num of params {self.num_params}\"\u001b[0m\u001b[0;34m\u001b[0m\u001b[0;34m\u001b[0m\u001b[0m\n\u001b[0;32m---> 47\u001b[0;31m     \u001b[0;32massert\u001b[0m \u001b[0mlen\u001b[0m\u001b[0;34m(\u001b[0m\u001b[0mself\u001b[0m\u001b[0;34m.\u001b[0m\u001b[0mgradient\u001b[0m\u001b[0;34m)\u001b[0m \u001b[0;34m==\u001b[0m \u001b[0mself\u001b[0m\u001b[0;34m.\u001b[0m\u001b[0mnum_params\u001b[0m\u001b[0;34m,\u001b[0m \u001b[0massert_string\u001b[0m\u001b[0;34m\u001b[0m\u001b[0;34m\u001b[0m\u001b[0m\n\u001b[0m",
            "\u001b[0;31mAssertionError\u001b[0m: len of gradient 27 doesnt equal to num of params 54"
          ]
        }
      ]
    },
    {
      "cell_type": "code",
      "source": [
        "#chech if backprop is correct for linear function\n",
        "import matplotlib.pyplot as plt\n",
        "\n",
        "def linear_func(x, k = 0.5, b = 1, eps = 1):\n",
        "  return k * x + b + np.random.random() * eps\n",
        "\n",
        "\n",
        "X = np.linspace(0, 10, 100000)\n",
        "y = [linear_func(x, k = 0.5, b = 1) for x in X]\n",
        "\n",
        "plt.scatter(X, y)\n",
        "\n",
        "None"
      ],
      "metadata": {
        "id": "OLEcUzfZy25j",
        "colab": {
          "base_uri": "https://localhost:8080/",
          "height": 265
        },
        "outputId": "1bbf66a5-f840-4c1b-a022-c423241e32cf"
      },
      "execution_count": null,
      "outputs": [
        {
          "output_type": "display_data",
          "data": {
            "image/png": "[encoded data removed]",
            "text/plain": [
              "<Figure size 432x288 with 1 Axes>"
            ]
          },
          "metadata": {
            "needs_background": "light"
          }
        }
      ]
    },
    {
      "cell_type": "code",
      "source": [
        "losses = []\n",
        "for x, y_ in zip(X, y):\n",
        "  x = np.array([x])\n",
        "  losses.append(net.train(x, y_, alpha=0.1).item())"
      ],
      "metadata": {
        "id": "UAZESDrUbEV0"
      },
      "execution_count": null,
      "outputs": []
    },
    {
      "cell_type": "code",
      "source": [
        "plt.plot([i for i in range(len(losses))], losses)\n",
        "None"
      ],
      "metadata": {
        "colab": {
          "base_uri": "https://localhost:8080/",
          "height": 276
        },
        "id": "QnTqqoWSozfe",
        "outputId": "48c12a31-0831-4af4-85d2-9e9e051a78d0"
      },
      "execution_count": null,
      "outputs": [
        {
          "output_type": "display_data",
          "data": {
            "image/png": "[encoded data removed]",
            "text/plain": [
              "<Figure size 432x288 with 1 Axes>"
            ]
          },
          "metadata": {
            "needs_background": "light"
          }
        }
      ]
    },
    {
      "cell_type": "code",
      "source": [
        "#predict\n",
        "\n",
        "plt.scatter(X, y)\n",
        "plt.plot(X, [net.forward(np.array([x])).item() for x in X])\n",
        "None"
      ],
      "metadata": {
        "id": "Hkq_wpe_y2_F",
        "colab": {
          "base_uri": "https://localhost:8080/",
          "height": 276
        },
        "outputId": "e80341ad-8272-4ff4-e3f2-4fd18dd60d7a"
      },
      "execution_count": null,
      "outputs": [
        {
          "output_type": "display_data",
          "data": {
            "image/png": "[encoded data removed]",
            "text/plain": [
              "<Figure size 432x288 with 1 Axes>"
            ]
          },
          "metadata": {
            "needs_background": "light"
          }
        }
      ]
    }
  ]
}